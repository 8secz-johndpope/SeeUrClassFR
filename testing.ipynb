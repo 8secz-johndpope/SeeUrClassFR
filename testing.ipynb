{
 "cells": [
  {
   "cell_type": "code",
   "execution_count": 41,
   "metadata": {},
   "outputs": [],
   "source": [
    "import re\n",
    "def pars_name(text):\n",
    "    regex = r'alumno_[a-z]*_[a-z]*.jpg'\n",
    "    result = re.findall(regex, text)\n",
    "    result_key = result[0]\n",
    "    result_meta = result_key[7:-4].replace('_', ' ').title()\n",
    "    return result_key, result_meta"
   ]
  },
  {
   "cell_type": "code",
   "execution_count": 42,
   "metadata": {},
   "outputs": [
    {
     "name": "stdout",
     "output_type": "stream",
     "text": [
      "('alumno_gustavo_gonzalez.jpg', 'Gustavo Gonzalez')\n"
     ]
    }
   ],
   "source": [
    "print(pars_name('./institucionandresbello/b/c/alumno_gustavo_gonzalez.jpg'))"
   ]
  },
  {
   "cell_type": "code",
   "execution_count": null,
   "metadata": {},
   "outputs": [],
   "source": []
  }
 ],
 "metadata": {
  "kernelspec": {
   "display_name": "Python 3",
   "language": "python",
   "name": "python3"
  },
  "language_info": {
   "codemirror_mode": {
    "name": "ipython",
    "version": 3
   },
   "file_extension": ".py",
   "mimetype": "text/x-python",
   "name": "python",
   "nbconvert_exporter": "python",
   "pygments_lexer": "ipython3",
   "version": "3.6.5"
  }
 },
 "nbformat": 4,
 "nbformat_minor": 2
}
